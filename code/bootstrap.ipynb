{
 "cells": [
  {
   "cell_type": "code",
   "execution_count": 14,
   "metadata": {},
   "outputs": [],
   "source": [
    "from main import *\n",
    "from utils import *\n",
    "from models import *\n",
    "from torch.utils.data import DataLoader\n",
    "from torch.nn.functional import softmax\n",
    "from tqdm import tqdm"
   ]
  },
  {
   "cell_type": "code",
   "execution_count": 2,
   "metadata": {},
   "outputs": [],
   "source": [
    "import os"
   ]
  },
  {
   "cell_type": "code",
   "execution_count": 25,
   "metadata": {},
   "outputs": [],
   "source": [
    "tk_save_path = os.path.join('../checkpoints/hybrid', 'tokenizer.pkl')\n",
    "model_save_path = os.path.join('../checkpoints/hybrid', 'hybrid.ckpt')\n",
    "data_dir = '../data/splits'\n",
    "device = torch.device('cuda')\n",
    "batch_size = 16"
   ]
  },
  {
   "cell_type": "code",
   "execution_count": 26,
   "metadata": {},
   "outputs": [],
   "source": [
    "with open(tk_save_path, 'rb') as f:\n",
    "    tokenizer = pickle.load(f)\n",
    "label_list = [tokenizer.id2label[i] for i in range(len(tokenizer.id2label))]\n",
    "\n",
    "\n",
    "model = ConvClassifier.load_model(model_save_path).to(device)"
   ]
  },
  {
   "cell_type": "code",
   "execution_count": 27,
   "metadata": {},
   "outputs": [],
   "source": [
    "TK_PAD_IDX = tokenizer.word_vocab[tokenizer.pad_token]\n",
    "CHAR_PAD_IDX = tokenizer.char_vocab[tokenizer.pad_token]"
   ]
  },
  {
   "cell_type": "code",
   "execution_count": 28,
   "metadata": {},
   "outputs": [],
   "source": [
    "dev_dataset = preprocess_data(data_dir, 'dev', tokenizer)\n",
    "test_dataset = preprocess_data(data_dir, 'test', tokenizer)"
   ]
  },
  {
   "cell_type": "code",
   "execution_count": 29,
   "metadata": {},
   "outputs": [],
   "source": [
    "import pandas as pd"
   ]
  },
  {
   "cell_type": "code",
   "execution_count": 30,
   "metadata": {},
   "outputs": [],
   "source": [
    "def pad_batch(batch_samples):\n",
    "    tk_ids, char_ids, labels = zip(*batch_samples)\n",
    "    tk_lens = torch.LongTensor([len(tk) for tk in tk_ids])\n",
    "    char_lens = torch.LongTensor([len(c) for c in char_ids])\n",
    "    padded_tkids = pad_sequence(tk_ids, batch_first=True, padding_value=TK_PAD_IDX)\n",
    "    padded_chars = pad_sequence(char_ids, batch_first=True, padding_value=CHAR_PAD_IDX)\n",
    "    labels = torch.LongTensor(labels)\n",
    "    return padded_tkids, tk_lens, padded_chars, char_lens, labels\n",
    "\n",
    "def collect_logits(model, dataset):\n",
    "    predictions = []\n",
    "    ground_truth = []\n",
    "    all_logits = []\n",
    "    running_loss = 0.0\n",
    "\n",
    "    dataloader = DataLoader(dataset, batch_size=batch_size, collate_fn=pad_batch)\n",
    "    model.eval()\n",
    "    for batch in tqdm(dataloader):\n",
    "\n",
    "        batch = (t.to(device) for t in batch)\n",
    "        tk_ids, tk_lens, char_ids, char_lens, labels = batch\n",
    "        loss, logits = model.get_loss(tk_ids, tk_lens, char_ids, char_lens, labels)\n",
    "\n",
    "        predictions.extend(logits.argmax(dim=1).tolist())\n",
    "        ground_truth.extend(labels.tolist())\n",
    "        all_logits.extend(softmax(logits, dim=1).tolist())\n",
    "        running_loss += loss.item()\n",
    "\n",
    "    running_loss /= len(dataloader)\n",
    "\n",
    "    return predictions, ground_truth, all_logits"
   ]
  },
  {
   "cell_type": "code",
   "execution_count": 31,
   "metadata": {},
   "outputs": [
    {
     "name": "stderr",
     "output_type": "stream",
     "text": [
      "100%|██████████| 530/530 [00:04<00:00, 106.28it/s]\n"
     ]
    }
   ],
   "source": [
    "predictions, ground_truth, logits = collect_logits(model, dev_dataset)"
   ]
  },
  {
   "cell_type": "code",
   "execution_count": 42,
   "metadata": {},
   "outputs": [],
   "source": [
    "samples = [tokenizer.decode_chars(sample[1].tolist()) for sample in dev_dataset]"
   ]
  },
  {
   "cell_type": "code",
   "execution_count": 34,
   "metadata": {},
   "outputs": [
    {
     "data": {
      "text/plain": [
       "['location', 'products', 'date', 'random_string', 'other', 'company']"
      ]
     },
     "execution_count": 34,
     "metadata": {},
     "output_type": "execute_result"
    }
   ],
   "source": [
    "label_list"
   ]
  },
  {
   "cell_type": "code",
   "execution_count": 44,
   "metadata": {},
   "outputs": [],
   "source": [
    "df = pd.DataFrame({'samples':samples, 'predictions': predictions, 'ground_truth': ground_truth, 'logits': logits})"
   ]
  },
  {
   "cell_type": "code",
   "execution_count": 51,
   "metadata": {},
   "outputs": [
    {
     "name": "stderr",
     "output_type": "stream",
     "text": [
      "<ipython-input-51-928a05a268ee>:1: UserWarning: Boolean Series key will be reindexed to match DataFrame index.\n",
      "  len(df[df['ground_truth']==0][df['predictions']==3][['samples', 'logits']])\n"
     ]
    },
    {
     "data": {
      "text/plain": [
       "29"
      ]
     },
     "execution_count": 51,
     "metadata": {},
     "output_type": "execute_result"
    }
   ],
   "source": [
    "len(df[df['ground_truth']==0][df['predictions']==3][['samples', 'logits']])"
   ]
  },
  {
   "cell_type": "code",
   "execution_count": 52,
   "metadata": {
    "scrolled": true
   },
   "outputs": [
    {
     "name": "stderr",
     "output_type": "stream",
     "text": [
      "<ipython-input-52-442a35ed50c5>:1: UserWarning: Boolean Series key will be reindexed to match DataFrame index.\n",
      "  df[df['ground_truth']==0][df['predictions']==3][['samples', 'logits']]\n"
     ]
    },
    {
     "data": {
      "text/html": [
       "<div>\n",
       "<style scoped>\n",
       "    .dataframe tbody tr th:only-of-type {\n",
       "        vertical-align: middle;\n",
       "    }\n",
       "\n",
       "    .dataframe tbody tr th {\n",
       "        vertical-align: top;\n",
       "    }\n",
       "\n",
       "    .dataframe thead th {\n",
       "        text-align: right;\n",
       "    }\n",
       "</style>\n",
       "<table border=\"1\" class=\"dataframe\">\n",
       "  <thead>\n",
       "    <tr style=\"text-align: right;\">\n",
       "      <th></th>\n",
       "      <th>samples</th>\n",
       "      <th>logits</th>\n",
       "    </tr>\n",
       "  </thead>\n",
       "  <tbody>\n",
       "    <tr>\n",
       "      <th>34</th>\n",
       "      <td>badghis</td>\n",
       "      <td>[0.1624574214220047, 0.00011443939001765102, 3...</td>\n",
       "    </tr>\n",
       "    <tr>\n",
       "      <th>38</th>\n",
       "      <td>qods</td>\n",
       "      <td>[0.392048180103302, 0.0036011526826769114, 5.0...</td>\n",
       "    </tr>\n",
       "    <tr>\n",
       "      <th>62</th>\n",
       "      <td>vestfirir</td>\n",
       "      <td>[0.3006434738636017, 0.0049293567426502705, 0....</td>\n",
       "    </tr>\n",
       "    <tr>\n",
       "      <th>113</th>\n",
       "      <td>woleu-ntem</td>\n",
       "      <td>[0.4072619080543518, 0.0030445565935224295, 1....</td>\n",
       "    </tr>\n",
       "    <tr>\n",
       "      <th>114</th>\n",
       "      <td>gaoyao</td>\n",
       "      <td>[0.4618729054927826, 0.00947509240359068, 0.00...</td>\n",
       "    </tr>\n",
       "    <tr>\n",
       "      <th>117</th>\n",
       "      <td>kuks</td>\n",
       "      <td>[0.12970134615898132, 0.006527287885546684, 1....</td>\n",
       "    </tr>\n",
       "    <tr>\n",
       "      <th>128</th>\n",
       "      <td>falkirk</td>\n",
       "      <td>[0.3755565583705902, 0.02040880173444748, 0.00...</td>\n",
       "    </tr>\n",
       "    <tr>\n",
       "      <th>141</th>\n",
       "      <td>salzburg</td>\n",
       "      <td>[0.025234609842300415, 2.9056857329123886e-06,...</td>\n",
       "    </tr>\n",
       "    <tr>\n",
       "      <th>162</th>\n",
       "      <td>duisburg</td>\n",
       "      <td>[0.3976680636405945, 0.00014818357885815203, 9...</td>\n",
       "    </tr>\n",
       "    <tr>\n",
       "      <th>203</th>\n",
       "      <td>gifu</td>\n",
       "      <td>[0.23873232305049896, 0.0010837960289791226, 9...</td>\n",
       "    </tr>\n",
       "    <tr>\n",
       "      <th>219</th>\n",
       "      <td>orsk</td>\n",
       "      <td>[0.013660039752721786, 0.0016985787078738213, ...</td>\n",
       "    </tr>\n",
       "    <tr>\n",
       "      <th>228</th>\n",
       "      <td>hokkaid</td>\n",
       "      <td>[0.046368859708309174, 0.00024416999076493084,...</td>\n",
       "    </tr>\n",
       "    <tr>\n",
       "      <th>257</th>\n",
       "      <td>shkodr</td>\n",
       "      <td>[0.36207497119903564, 0.0055436911061406136, 4...</td>\n",
       "    </tr>\n",
       "    <tr>\n",
       "      <th>268</th>\n",
       "      <td>erzurum</td>\n",
       "      <td>[0.09177892655134201, 0.0006260921945795417, 6...</td>\n",
       "    </tr>\n",
       "    <tr>\n",
       "      <th>301</th>\n",
       "      <td>kyiv</td>\n",
       "      <td>[0.0072950441390275955, 1.4158609928927035e-06...</td>\n",
       "    </tr>\n",
       "    <tr>\n",
       "      <th>362</th>\n",
       "      <td>dusseldorf</td>\n",
       "      <td>[0.036783456802368164, 0.0010113574098795652, ...</td>\n",
       "    </tr>\n",
       "    <tr>\n",
       "      <th>420</th>\n",
       "      <td>boksburg</td>\n",
       "      <td>[0.11874041706323624, 8.204087498597801e-05, 9...</td>\n",
       "    </tr>\n",
       "    <tr>\n",
       "      <th>441</th>\n",
       "      <td>southwark</td>\n",
       "      <td>[0.030456608161330223, 0.0015247962437570095, ...</td>\n",
       "    </tr>\n",
       "    <tr>\n",
       "      <th>456</th>\n",
       "      <td>bologna</td>\n",
       "      <td>[0.4895779490470886, 1.2702383173746057e-05, 1...</td>\n",
       "    </tr>\n",
       "    <tr>\n",
       "      <th>522</th>\n",
       "      <td>chemnitz</td>\n",
       "      <td>[0.0011219826992601156, 0.00028737125103361905...</td>\n",
       "    </tr>\n",
       "    <tr>\n",
       "      <th>533</th>\n",
       "      <td>limn</td>\n",
       "      <td>[0.21058346331119537, 6.535733700729907e-05, 4...</td>\n",
       "    </tr>\n",
       "    <tr>\n",
       "      <th>569</th>\n",
       "      <td>mwaro</td>\n",
       "      <td>[0.03746713697910309, 0.0317743681371212, 0.00...</td>\n",
       "    </tr>\n",
       "    <tr>\n",
       "      <th>615</th>\n",
       "      <td>vorarlberg</td>\n",
       "      <td>[0.2162678986787796, 0.0016627551522105932, 0....</td>\n",
       "    </tr>\n",
       "    <tr>\n",
       "      <th>667</th>\n",
       "      <td>passor</td>\n",
       "      <td>[0.25146475434303284, 0.0014684905763715506, 0...</td>\n",
       "    </tr>\n",
       "    <tr>\n",
       "      <th>677</th>\n",
       "      <td>mambr-kad</td>\n",
       "      <td>[0.4928271472454071, 2.3723815445464425e-07, 9...</td>\n",
       "    </tr>\n",
       "    <tr>\n",
       "      <th>696</th>\n",
       "      <td>cebu</td>\n",
       "      <td>[0.3520989418029785, 0.0018815842922776937, 0....</td>\n",
       "    </tr>\n",
       "    <tr>\n",
       "      <th>726</th>\n",
       "      <td>cdiz</td>\n",
       "      <td>[0.022510111331939697, 1.724286630633287e-05, ...</td>\n",
       "    </tr>\n",
       "    <tr>\n",
       "      <th>743</th>\n",
       "      <td>heze</td>\n",
       "      <td>[0.27086228132247925, 0.0588109977543354, 0.00...</td>\n",
       "    </tr>\n",
       "    <tr>\n",
       "      <th>797</th>\n",
       "      <td>par</td>\n",
       "      <td>[0.1659434735774994, 0.01256687380373478, 0.00...</td>\n",
       "    </tr>\n",
       "  </tbody>\n",
       "</table>\n",
       "</div>"
      ],
      "text/plain": [
       "        samples                                             logits\n",
       "34      badghis  [0.1624574214220047, 0.00011443939001765102, 3...\n",
       "38         qods  [0.392048180103302, 0.0036011526826769114, 5.0...\n",
       "62    vestfirir  [0.3006434738636017, 0.0049293567426502705, 0....\n",
       "113  woleu-ntem  [0.4072619080543518, 0.0030445565935224295, 1....\n",
       "114      gaoyao  [0.4618729054927826, 0.00947509240359068, 0.00...\n",
       "117        kuks  [0.12970134615898132, 0.006527287885546684, 1....\n",
       "128     falkirk  [0.3755565583705902, 0.02040880173444748, 0.00...\n",
       "141    salzburg  [0.025234609842300415, 2.9056857329123886e-06,...\n",
       "162    duisburg  [0.3976680636405945, 0.00014818357885815203, 9...\n",
       "203        gifu  [0.23873232305049896, 0.0010837960289791226, 9...\n",
       "219        orsk  [0.013660039752721786, 0.0016985787078738213, ...\n",
       "228     hokkaid  [0.046368859708309174, 0.00024416999076493084,...\n",
       "257      shkodr  [0.36207497119903564, 0.0055436911061406136, 4...\n",
       "268     erzurum  [0.09177892655134201, 0.0006260921945795417, 6...\n",
       "301        kyiv  [0.0072950441390275955, 1.4158609928927035e-06...\n",
       "362  dusseldorf  [0.036783456802368164, 0.0010113574098795652, ...\n",
       "420    boksburg  [0.11874041706323624, 8.204087498597801e-05, 9...\n",
       "441   southwark  [0.030456608161330223, 0.0015247962437570095, ...\n",
       "456     bologna  [0.4895779490470886, 1.2702383173746057e-05, 1...\n",
       "522    chemnitz  [0.0011219826992601156, 0.00028737125103361905...\n",
       "533        limn  [0.21058346331119537, 6.535733700729907e-05, 4...\n",
       "569       mwaro  [0.03746713697910309, 0.0317743681371212, 0.00...\n",
       "615  vorarlberg  [0.2162678986787796, 0.0016627551522105932, 0....\n",
       "667      passor  [0.25146475434303284, 0.0014684905763715506, 0...\n",
       "677   mambr-kad  [0.4928271472454071, 2.3723815445464425e-07, 9...\n",
       "696        cebu  [0.3520989418029785, 0.0018815842922776937, 0....\n",
       "726        cdiz  [0.022510111331939697, 1.724286630633287e-05, ...\n",
       "743        heze  [0.27086228132247925, 0.0588109977543354, 0.00...\n",
       "797         par  [0.1659434735774994, 0.01256687380373478, 0.00..."
      ]
     },
     "execution_count": 52,
     "metadata": {},
     "output_type": "execute_result"
    }
   ],
   "source": [
    "df[df['ground_truth']==0][df['predictions']==3][['samples', 'logits']]"
   ]
  },
  {
   "cell_type": "code",
   "execution_count": 61,
   "metadata": {},
   "outputs": [],
   "source": [
    "import unidecode"
   ]
  },
  {
   "cell_type": "code",
   "execution_count": 66,
   "metadata": {},
   "outputs": [],
   "source": [
    "with open('../data/loc_cities.txt') as f:\n",
    "    cities = f.read().strip().split('\\n')\n",
    "with open('../data/loc_provinces.txt') as f:\n",
    "    provinces = f.read().strip().split('\\n')\n",
    "with open('../data/loc_countries.txt') as f:\n",
    "    countries = f.read().strip().split('\\n')\n",
    "\n",
    "cities = [unidecode.unidecode(city.strip()).lower() for city in cities]\n",
    "provinces = [unidecode.unidecode(province.strip()).lower() for province in provinces]\n",
    "countries = [unidecode.unidecode(country.strip()).lower() for country in countries]\n",
    "\n",
    "locations = set()\n",
    "locations.update(cities)\n",
    "locations.update(provinces)\n",
    "locations.update(countries)"
   ]
  },
  {
   "cell_type": "code",
   "execution_count": 97,
   "metadata": {},
   "outputs": [],
   "source": [
    "def intervention(model, dataset, locations):\n",
    "    predictions = []\n",
    "    ground_truth = []\n",
    "    all_logits = []\n",
    "    running_loss = 0.0\n",
    "\n",
    "    \n",
    "    model.eval()\n",
    "    for batch in tqdm(dataset):\n",
    "\n",
    "        batch = (t.to(device) for t in batch)\n",
    "        tk_ids, char_ids, labels = batch\n",
    "        tk_ids = tk_ids.unsqueeze(0).to(device)\n",
    "        \n",
    "        if char_ids.size()[0] < 4:\n",
    "            char_ids = torch.LongTensor(char_ids.tolist() + [tokenizer.char_vocab[tokenizer.pad_token]]*(4-char_ids.size()[0]))\n",
    "        char_ids = char_ids.unsqueeze(0).to(device)\n",
    "        \n",
    "        tk_lens = torch.LongTensor([tk_ids.size()[1]]).to(device)\n",
    "        char_lens = torch.LongTensor([char_ids.size()[1]]).to(device)\n",
    "        #print(tk_ids.size(), char_ids.size())\n",
    "        \n",
    "        logits = model(tk_ids, tk_lens, char_ids, char_lens)\n",
    "\n",
    "        cur_predictions = logits.argmax(dim=1).tolist()\n",
    "        cur_labels = labels.item()\n",
    "        cur_logits = softmax(logits, dim=1).tolist()\n",
    "\n",
    "        if cur_predictions[0]==label_list.index('random_string'):\n",
    "            cur_sample = tokenizer.decode_chars(char_ids.tolist()[0])\n",
    "            if cur_sample in locations:\n",
    "                cur_predictions[0]=label_list.index('location')\n",
    "        \n",
    "        predictions.extend(cur_predictions)\n",
    "        ground_truth.append(cur_labels)\n",
    "        all_logits.extend(cur_logits)\n",
    "\n",
    "    return predictions, ground_truth, all_logits"
   ]
  },
  {
   "cell_type": "code",
   "execution_count": 98,
   "metadata": {},
   "outputs": [
    {
     "name": "stderr",
     "output_type": "stream",
     "text": [
      "100%|██████████| 8478/8478 [00:17<00:00, 489.15it/s]\n"
     ]
    }
   ],
   "source": [
    "predictions, ground_truth, all_logits = intervention(model, test_dataset, locations)"
   ]
  },
  {
   "cell_type": "code",
   "execution_count": 100,
   "metadata": {},
   "outputs": [],
   "source": [
    "from sklearn.metrics import classification_report, confusion_matrix"
   ]
  },
  {
   "cell_type": "code",
   "execution_count": 99,
   "metadata": {},
   "outputs": [
    {
     "name": "stdout",
     "output_type": "stream",
     "text": [
      "              precision    recall  f1-score   support\n",
      "\n",
      "           0       0.90      0.95      0.93       878\n",
      "           1       0.93      0.95      0.94       596\n",
      "           2       0.99      0.99      0.99      2000\n",
      "           3       0.99      0.98      0.98      2000\n",
      "           4       0.98      0.96      0.97      1004\n",
      "           5       0.97      0.96      0.96      2000\n",
      "\n",
      "    accuracy                           0.97      8478\n",
      "   macro avg       0.96      0.96      0.96      8478\n",
      "weighted avg       0.97      0.97      0.97      8478\n",
      "\n"
     ]
    }
   ],
   "source": [
    "print(classification_report(ground_truth, predictions))"
   ]
  },
  {
   "cell_type": "code",
   "execution_count": 104,
   "metadata": {},
   "outputs": [],
   "source": [
    "cmatrix = confusion_matrix(ground_truth, predictions, normalize='true')*100"
   ]
  },
  {
   "cell_type": "code",
   "execution_count": 103,
   "metadata": {},
   "outputs": [],
   "source": [
    "import seaborn as sn"
   ]
  },
  {
   "cell_type": "code",
   "execution_count": 105,
   "metadata": {},
   "outputs": [
    {
     "data": {
      "text/plain": [
       "<matplotlib.axes._subplots.AxesSubplot at 0x7fc87cbc16d0>"
      ]
     },
     "execution_count": 105,
     "metadata": {},
     "output_type": "execute_result"
    },
    {
     "data": {
      "image/png": "[encoded data removed]",
      "text/plain": [
       "<Figure size 432x288 with 2 Axes>"
      ]
     },
     "metadata": {
      "needs_background": "light"
     },
     "output_type": "display_data"
    }
   ],
   "source": [
    "sn.heatmap(cmatrix, annot=True)"
   ]
  }
 ],
 "metadata": {
  "kernelspec": {
   "display_name": "env37",
   "language": "python",
   "name": "env37"
  },
  "language_info": {
   "codemirror_mode": {
    "name": "ipython",
    "version": 3
   },
   "file_extension": ".py",
   "mimetype": "text/x-python",
   "name": "python",
   "nbconvert_exporter": "python",
   "pygments_lexer": "ipython3",
   "version": "3.8.2"
  }
 },
 "nbformat": 4,
 "nbformat_minor": 4
}
