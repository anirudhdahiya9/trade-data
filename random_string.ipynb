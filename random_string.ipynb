{
 "cells": [
  {
   "cell_type": "code",
   "execution_count": 268,
   "metadata": {},
   "outputs": [],
   "source": [
    "from random import randint, choice, choices, random\n",
    "import string"
   ]
  },
  {
   "cell_type": "code",
   "execution_count": 281,
   "metadata": {},
   "outputs": [],
   "source": [
    "def gen_int(low=2, high=5):\n",
    "    int_seg_len = randint(low, high)\n",
    "    return ''.join(choices(string.digits, k=int_seg_len))\n",
    "\n",
    "def gen_upper():\n",
    "    char_seg_len = randint(3, 9)\n",
    "    return ''.join(choices(string.ascii_uppercase, k=char_seg_len))\n",
    "    \n",
    "def gen_mix():\n",
    "    mix_seg_len = randint(3, 9)\n",
    "    return ''.join(choices(string.ascii_letters, k=mix_seg_len))\n",
    "    \n",
    "def gen_lower():\n",
    "    char_seg_len = randint(3, 9)\n",
    "    return ''.join(choices(string.ascii_lowercase, k=char_seg_len))\n",
    "    \n",
    "def gen_delim():\n",
    "    return choice('---:@#')\n",
    "\n",
    "\n",
    "generators = [gen_int, gen_int, gen_char, gen_mix, gen_lower]"
   ]
  },
  {
   "cell_type": "code",
   "execution_count": 282,
   "metadata": {},
   "outputs": [],
   "source": [
    "gen_sequences = []\n",
    "for _ in range(100000):\n",
    "    num_segments = int(choices('1234', weights=[3, 5, 3, 1])[0])\n",
    "    segments = []\n",
    "    for i in range(num_segments):\n",
    "        segments.append(choices(generators)[0]())\n",
    "    \n",
    "    delim = gen_delim()\n",
    "    gen_seq = delim.join(segments)\n",
    "    \n",
    "    # If short number generated, make it larger\n",
    "    if gen_seq.isnumeric():\n",
    "        if len(gen_seq)<5:\n",
    "            gen_seq = gen_int(5, 9)\n",
    "            \n",
    "    elif gen_seq.isalpha() and len(gen_seq)<3:\n",
    "        continue\n",
    "        \n",
    "    gen_sequences.append(gen_seq)\n",
    "\n",
    "#print('\\n'.join(gen_sequences))"
   ]
  },
  {
   "cell_type": "code",
   "execution_count": 283,
   "metadata": {},
   "outputs": [],
   "source": [
    "with open('random_strings.txt', 'w') as f:\n",
    "    f.write('\\n'.join(gen_sequences)+'\\n')"
   ]
  }
 ],
 "metadata": {
  "kernelspec": {
   "display_name": "Python 3",
   "language": "python",
   "name": "python3"
  },
  "language_info": {
   "codemirror_mode": {
    "name": "ipython",
    "version": 3
   },
   "file_extension": ".py",
   "mimetype": "text/x-python",
   "name": "python",
   "nbconvert_exporter": "python",
   "pygments_lexer": "ipython3",
   "version": "3.6.2"
  }
 },
 "nbformat": 4,
 "nbformat_minor": 2
}
