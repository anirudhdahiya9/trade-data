{
 "cells": [
  {
   "cell_type": "code",
   "execution_count": 315,
   "metadata": {},
   "outputs": [],
   "source": [
    "from random import random, seed, choice\n",
    "import time\n",
    "import re"
   ]
  },
  {
   "cell_type": "code",
   "execution_count": 316,
   "metadata": {},
   "outputs": [],
   "source": [
    "seed(4)\n",
    "remove_zero_threshold = 0.7"
   ]
  },
  {
   "cell_type": "code",
   "execution_count": 317,
   "metadata": {},
   "outputs": [],
   "source": [
    "format = '%d/%m/%Y'\n",
    "start = time.mktime(time.strptime('1/2/1900', format))\n",
    "end = time.mktime(time.strptime('1/2/2050', format))"
   ]
  },
  {
   "cell_type": "code",
   "execution_count": 318,
   "metadata": {},
   "outputs": [],
   "source": [
    "formats = ['%d/%m/%Y', '%d-%m-%Y', '%d %B %Y', '%d %b %Y' , '%dth %B %Y', '%dth %B\\'%y', '%A the %dth of %B %Y', '%A, %dth of %B %Y', '%dth of %B %Y']"
   ]
  },
  {
   "cell_type": "code",
   "execution_count": 313,
   "metadata": {},
   "outputs": [
    {
     "name": "stdout",
     "output_type": "stream",
     "text": [
      "25/03/1974\n"
     ]
    }
   ],
   "source": [
    "gen_date = time.strftime(choice(formats), time.localtime(start + random()*(end-start)))\n",
    "print(gen_date)"
   ]
  },
  {
   "cell_type": "code",
   "execution_count": 319,
   "metadata": {},
   "outputs": [],
   "source": [
    "def fix_suffix(date):\n",
    "    if date.startswith('0'):\n",
    "        if random() < remove_zero_threshold:\n",
    "            date = date[1:]\n",
    "    date = re.sub(r'^(01|1|21)th', r'\\1st', date)\n",
    "    date = re.sub(r'^(02|2|22)th', r'\\1nd', date)\n",
    "    date = re.sub(r'^(03|3|23)th', r'\\1rd', date)\n",
    "    return date"
   ]
  },
  {
   "cell_type": "code",
   "execution_count": 320,
   "metadata": {},
   "outputs": [],
   "source": [
    "dates = []\n",
    "for _ in range(50000):\n",
    "    gen_date = time.strftime(choice(formats), time.localtime(start + random()*(end-start)))\n",
    "    dates.append(fix_suffix(gen_date))"
   ]
  },
  {
   "cell_type": "code",
   "execution_count": 321,
   "metadata": {},
   "outputs": [],
   "source": [
    "with open('dates_randomgen.txt', 'w') as f:\n",
    "    f.write('\\n'.join(dates)+'\\n')"
   ]
  }
 ],
 "metadata": {
  "kernelspec": {
   "display_name": "Python 3",
   "language": "python",
   "name": "python3"
  },
  "language_info": {
   "codemirror_mode": {
    "name": "ipython",
    "version": 3
   },
   "file_extension": ".py",
   "mimetype": "text/x-python",
   "name": "python",
   "nbconvert_exporter": "python",
   "pygments_lexer": "ipython3",
   "version": "3.6.2"
  }
 },
 "nbformat": 4,
 "nbformat_minor": 2
}
