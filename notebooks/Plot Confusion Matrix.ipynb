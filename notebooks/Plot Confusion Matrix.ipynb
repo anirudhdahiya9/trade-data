{
 "cells": [
  {
   "cell_type": "code",
   "execution_count": 1,
   "metadata": {},
   "outputs": [],
   "source": [
    "import matplotlib.pyplot as plt"
   ]
  },
  {
   "cell_type": "code",
   "execution_count": 18,
   "metadata": {},
   "outputs": [],
   "source": [
    "import numpy as np"
   ]
  },
  {
   "cell_type": "code",
   "execution_count": 22,
   "metadata": {},
   "outputs": [],
   "source": [
    "cmatr = np.array([[9.06605923e-01, 4.55580866e-03, 0.00000000e+00, 4.44191344e-02,\n",
    "        4.55580866e-03, 3.98633257e-02],\n",
    "       [6.71140940e-03, 9.49664430e-01, 0.00000000e+00, 1.67785235e-03,\n",
    "        3.35570470e-03, 3.85906040e-02],\n",
    "       [0.00000000e+00, 0.00000000e+00, 9.87500000e-01, 3.00000000e-03,\n",
    "        8.50000000e-03, 1.00000000e-03],\n",
    "       [1.55000000e-02, 5.00000000e-04, 0.00000000e+00, 9.82000000e-01,\n",
    "        0.00000000e+00, 2.00000000e-03],\n",
    "       [9.96015936e-04, 7.96812749e-03, 5.97609562e-03, 9.96015936e-04,\n",
    "        9.75099602e-01, 8.96414343e-03],\n",
    "       [1.35000000e-02, 2.50000000e-03, 0.00000000e+00, 3.50000000e-03,\n",
    "        5.50000000e-03, 9.75000000e-01]]) * 100"
   ]
  },
  {
   "cell_type": "code",
   "execution_count": 24,
   "metadata": {},
   "outputs": [],
   "source": [
    "label_list = ['location', 'products', 'date', 'random_string', 'other', 'company']"
   ]
  },
  {
   "cell_type": "code",
   "execution_count": 4,
   "metadata": {},
   "outputs": [
    {
     "name": "stderr",
     "output_type": "stream",
     "text": [
      "/DATA1/USERS/anirudh/anaconda3/lib/python3.7/importlib/_bootstrap.py:219: RuntimeWarning: numpy.ufunc size changed, may indicate binary incompatibility. Expected 192 from C header, got 216 from PyObject\n",
      "  return f(*args, **kwds)\n",
      "/DATA1/USERS/anirudh/anaconda3/lib/python3.7/importlib/_bootstrap.py:219: RuntimeWarning: numpy.ufunc size changed, may indicate binary incompatibility. Expected 192 from C header, got 216 from PyObject\n",
      "  return f(*args, **kwds)\n",
      "/DATA1/USERS/anirudh/anaconda3/lib/python3.7/importlib/_bootstrap.py:219: RuntimeWarning: numpy.ufunc size changed, may indicate binary incompatibility. Expected 192 from C header, got 216 from PyObject\n",
      "  return f(*args, **kwds)\n",
      "/DATA1/USERS/anirudh/anaconda3/lib/python3.7/importlib/_bootstrap.py:219: RuntimeWarning: numpy.ufunc size changed, may indicate binary incompatibility. Expected 192 from C header, got 216 from PyObject\n",
      "  return f(*args, **kwds)\n",
      "/DATA1/USERS/anirudh/anaconda3/lib/python3.7/importlib/_bootstrap.py:219: RuntimeWarning: numpy.ufunc size changed, may indicate binary incompatibility. Expected 192 from C header, got 216 from PyObject\n",
      "  return f(*args, **kwds)\n"
     ]
    }
   ],
   "source": [
    "import pandas as pd\n",
    "import seaborn as sn"
   ]
  },
  {
   "cell_type": "code",
   "execution_count": 25,
   "metadata": {},
   "outputs": [],
   "source": [
    "df_cm = pd.DataFrame(cmatr, label_list, label_list)"
   ]
  },
  {
   "cell_type": "code",
   "execution_count": 26,
   "metadata": {},
   "outputs": [
    {
     "data": {
      "text/html": [
       "<div>\n",
       "<style scoped>\n",
       "    .dataframe tbody tr th:only-of-type {\n",
       "        vertical-align: middle;\n",
       "    }\n",
       "\n",
       "    .dataframe tbody tr th {\n",
       "        vertical-align: top;\n",
       "    }\n",
       "\n",
       "    .dataframe thead th {\n",
       "        text-align: right;\n",
       "    }\n",
       "</style>\n",
       "<table border=\"1\" class=\"dataframe\">\n",
       "  <thead>\n",
       "    <tr style=\"text-align: right;\">\n",
       "      <th></th>\n",
       "      <th>location</th>\n",
       "      <th>products</th>\n",
       "      <th>date</th>\n",
       "      <th>random_string</th>\n",
       "      <th>other</th>\n",
       "      <th>company</th>\n",
       "    </tr>\n",
       "  </thead>\n",
       "  <tbody>\n",
       "    <tr>\n",
       "      <th>location</th>\n",
       "      <td>90.660592</td>\n",
       "      <td>0.455581</td>\n",
       "      <td>0.00000</td>\n",
       "      <td>4.441913</td>\n",
       "      <td>0.455581</td>\n",
       "      <td>3.986333</td>\n",
       "    </tr>\n",
       "    <tr>\n",
       "      <th>products</th>\n",
       "      <td>0.671141</td>\n",
       "      <td>94.966443</td>\n",
       "      <td>0.00000</td>\n",
       "      <td>0.167785</td>\n",
       "      <td>0.335570</td>\n",
       "      <td>3.859060</td>\n",
       "    </tr>\n",
       "    <tr>\n",
       "      <th>date</th>\n",
       "      <td>0.000000</td>\n",
       "      <td>0.000000</td>\n",
       "      <td>98.75000</td>\n",
       "      <td>0.300000</td>\n",
       "      <td>0.850000</td>\n",
       "      <td>0.100000</td>\n",
       "    </tr>\n",
       "    <tr>\n",
       "      <th>random_string</th>\n",
       "      <td>1.550000</td>\n",
       "      <td>0.050000</td>\n",
       "      <td>0.00000</td>\n",
       "      <td>98.200000</td>\n",
       "      <td>0.000000</td>\n",
       "      <td>0.200000</td>\n",
       "    </tr>\n",
       "    <tr>\n",
       "      <th>other</th>\n",
       "      <td>0.099602</td>\n",
       "      <td>0.796813</td>\n",
       "      <td>0.59761</td>\n",
       "      <td>0.099602</td>\n",
       "      <td>97.509960</td>\n",
       "      <td>0.896414</td>\n",
       "    </tr>\n",
       "    <tr>\n",
       "      <th>company</th>\n",
       "      <td>1.350000</td>\n",
       "      <td>0.250000</td>\n",
       "      <td>0.00000</td>\n",
       "      <td>0.350000</td>\n",
       "      <td>0.550000</td>\n",
       "      <td>97.500000</td>\n",
       "    </tr>\n",
       "  </tbody>\n",
       "</table>\n",
       "</div>"
      ],
      "text/plain": [
       "                location   products      date  random_string      other  \\\n",
       "location       90.660592   0.455581   0.00000       4.441913   0.455581   \n",
       "products        0.671141  94.966443   0.00000       0.167785   0.335570   \n",
       "date            0.000000   0.000000  98.75000       0.300000   0.850000   \n",
       "random_string   1.550000   0.050000   0.00000      98.200000   0.000000   \n",
       "other           0.099602   0.796813   0.59761       0.099602  97.509960   \n",
       "company         1.350000   0.250000   0.00000       0.350000   0.550000   \n",
       "\n",
       "                 company  \n",
       "location        3.986333  \n",
       "products        3.859060  \n",
       "date            0.100000  \n",
       "random_string   0.200000  \n",
       "other           0.896414  \n",
       "company        97.500000  "
      ]
     },
     "execution_count": 26,
     "metadata": {},
     "output_type": "execute_result"
    }
   ],
   "source": [
    "df_cm"
   ]
  },
  {
   "cell_type": "code",
   "execution_count": 28,
   "metadata": {},
   "outputs": [
    {
     "data": {
      "text/plain": [
       "<matplotlib.axes._subplots.AxesSubplot at 0x7f8e4f355390>"
      ]
     },
     "execution_count": 28,
     "metadata": {},
     "output_type": "execute_result"
    },
    {
     "data": {
      "image/png": "[encoded data removed]",
      "text/plain": [
       "<Figure size 432x288 with 2 Axes>"
      ]
     },
     "metadata": {
      "needs_background": "light"
     },
     "output_type": "display_data"
    }
   ],
   "source": [
    "sn.heatmap(df_cm, cmap=\"YlGnBu\", annot=True, vmin=0.20, vmax=0.80)"
   ]
  }
 ],
 "metadata": {
  "kernelspec": {
   "display_name": "Python 3",
   "language": "python",
   "name": "python3"
  },
  "language_info": {
   "codemirror_mode": {
    "name": "ipython",
    "version": 3
   },
   "file_extension": ".py",
   "mimetype": "text/x-python",
   "name": "python",
   "nbconvert_exporter": "python",
   "pygments_lexer": "ipython3",
   "version": "3.7.6"
  }
 },
 "nbformat": 4,
 "nbformat_minor": 4
}
