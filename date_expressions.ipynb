{
 "cells": [
  {
   "cell_type": "code",
   "execution_count": 36,
   "metadata": {},
   "outputs": [],
   "source": [
    "ontonotes = '/Users/anirudhdahiya/karma/nlp/Research/coreference/ontoNotesData/ontonotes-release-5.0/data/files/data/english/annotations'"
   ]
  },
  {
   "cell_type": "code",
   "execution_count": 37,
   "metadata": {},
   "outputs": [],
   "source": [
    "import os\n",
    "import re"
   ]
  },
  {
   "cell_type": "code",
   "execution_count": 38,
   "metadata": {},
   "outputs": [],
   "source": [
    "filepaths = []\n",
    "for root, dirs, files in os.walk(ontonotes, topdown=True):\n",
    "    for fil in files:\n",
    "        if fil.endswith('.name'):\n",
    "            filepaths.append(os.path.join(root, fil))"
   ]
  },
  {
   "cell_type": "code",
   "execution_count": 39,
   "metadata": {},
   "outputs": [],
   "source": [
    "date_expressions = []\n",
    "for fil in filepaths:\n",
    "    with open(fil) as f:\n",
    "        contents = f.read()\n",
    "    date_expressions.extend(re.findall(r'<ENAMEX TYPE=\"DATE\">(.*?)</ENAMEX>', contents))"
   ]
  },
  {
   "cell_type": "code",
   "execution_count": 41,
   "metadata": {},
   "outputs": [],
   "source": [
    "with open('ontonotes_date_expressions.txt', 'w') as f:\n",
    "    f.write('\\n'.join(date_expressions) + '\\n')"
   ]
  }
 ],
 "metadata": {
  "kernelspec": {
   "display_name": "Python 3",
   "language": "python",
   "name": "python3"
  },
  "language_info": {
   "codemirror_mode": {
    "name": "ipython",
    "version": 3
   },
   "file_extension": ".py",
   "mimetype": "text/x-python",
   "name": "python",
   "nbconvert_exporter": "python",
   "pygments_lexer": "ipython3",
   "version": "3.6.2"
  }
 },
 "nbformat": 4,
 "nbformat_minor": 2
}
